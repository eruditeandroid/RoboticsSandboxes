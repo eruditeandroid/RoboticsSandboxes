{
 "cells": [
  {
   "cell_type": "code",
   "execution_count": 2,
   "metadata": {},
   "outputs": [
    {
     "name": "stderr",
     "output_type": "stream",
     "text": [
      "┌ Info: Precompiling Catlab [134e5e36-593f-5add-ad60-77f754baafbe]\n",
      "└ @ Base loading.jl:1260\n"
     ]
    }
   ],
   "source": [
    "using Catlab, Catlab.Theories"
   ]
  },
  {
   "cell_type": "code",
   "execution_count": 3,
   "metadata": {},
   "outputs": [
    {
     "data": {
      "text/plain": [
       "RestrictionCategory"
      ]
     },
     "execution_count": 3,
     "metadata": {},
     "output_type": "execute_result"
    }
   ],
   "source": [
    "@theory Category(Ob, Hom) => RestrictionCategory(Ob, Hom) begin\n",
    "    bar(f::Hom(A,B))::Hom(A,A) ⊣ (A::Ob, B::Ob)\n",
    "    \n",
    "    # Axioms\n",
    "    f ⋅ bar(f) == f ⊣ (f::Hom)\n",
    "    bar(f) ⋅ bar(g) == bar(g) ⋅ bar(f) ⊣ (A::Ob, B::Ob, C::Ob, f::Hom(A,B), g::Hom(A,C))\n",
    "    bar(g ⋅ bar(f)) == bar(g) ⋅ bar(f) ⊣ (A::Ob, B::Ob, C::Ob, f::Hom(A,B), g::Hom(A,C))\n",
    "    bar(g) ⋅ bar(f) == f ⋅ bar(g ⋅ f) ⊣ (A::Ob, B::Ob, C::Ob, f::Hom(A,B), g::Hom(B,C))\n",
    "end"
   ]
  },
  {
   "cell_type": "code",
   "execution_count": null,
   "metadata": {},
   "outputs": [],
   "source": []
  }
 ],
 "metadata": {
  "kernelspec": {
   "display_name": "Julia 1.4.2",
   "language": "julia",
   "name": "julia-1.4"
  },
  "language_info": {
   "file_extension": ".jl",
   "mimetype": "application/julia",
   "name": "julia",
   "version": "1.4.2"
  }
 },
 "nbformat": 4,
 "nbformat_minor": 2
}
