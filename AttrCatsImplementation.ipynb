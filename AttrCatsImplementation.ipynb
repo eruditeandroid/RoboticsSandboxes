{
 "cells": [
  {
   "cell_type": "code",
   "execution_count": 1,
   "metadata": {},
   "outputs": [
    {
     "name": "stderr",
     "output_type": "stream",
     "text": [
      "┌ Info: Precompiling Catlab [134e5e36-593f-5add-ad60-77f754baafbe]\n",
      "└ @ Base loading.jl:1260\n"
     ]
    }
   ],
   "source": [
    "using Catlab, Catlab.Theories, Catlab.Graphics\n",
    "import Catlab.Graphics: Graphviz"
   ]
  },
  {
   "cell_type": "code",
   "execution_count": 2,
   "metadata": {},
   "outputs": [
    {
     "data": {
      "text/plain": [
       "CategoryWithAttributes"
      ]
     },
     "execution_count": 2,
     "metadata": {},
     "output_type": "execute_result"
    }
   ],
   "source": [
    "@theory SymmetricMonoidalCategory(Ob,Hom) => CategoryWithDataServices(Ob,Hom,Data) begin\n",
    "    @op (u) := underlying\n",
    "    \n",
    "    Data::TYPE\n",
    "    \n",
    "    # Data service maps\n",
    "    underlying(V::Data)::Ob\n",
    "    μ(V::Data)::Hom(u(V) ⊗ u(V), u(V))\n",
    "    δ(V::Data)::Hom(u(V), u(V) ⊗ u(V))\n",
    "    ϵ(V::Data)::Hom(u(V), munit())\n",
    "    \n",
    "    # Data service axioms\n",
    "    (μ(V) ⊗ id(u(V))) ⋅ μ(V) == (id(u(V)) ⊗ μ(V)) ⋅ μ(V) ⊣ (V::Data) # associativity of μ\n",
    "    braid(u(V), u(V)) ⋅ μ(V) == μ(V) ⊣ (V::Data) # commutativity of μ\n",
    "    δ(V) ⋅ (δ(V) ⊗ id(u(V))) == δ(V) ⋅ (id(u(V)) ⊗ δ(V)) ⊣ (V::Data) # associativity of δ\n",
    "    δ(V) ⋅ (ϵ(V) ⊗ id(u(V))) == id(u(V)) ⊣ (V::Data) # unitality of δ\n",
    "    δ(V) ⋅ (id(u(V)) ⊗ ϵ(V)) == id(u(V)) ⊣ (V::Data) # \"\n",
    "    δ(V) ⋅ braid(u(V), u(V)) == δ(V) ⊣ (V::Data) # commutativity of δ\n",
    "    (δ(V) ⊗ id(u(V))) ⋅ (id(u(V)) ⊗ μ(V)) == μ(V) ⋅ δ(V) ⊣ (V::Data) # Frobenius law\n",
    "    (id(u(V)) ⊗ δ(V)) ⋅ (μ(V) ⊗ id(u(V))) == μ(V) ⋅ δ(V) ⊣ (V::Data) # \"\n",
    "    δ(V) ⋅ μ(V) == id(u(V)) ⊣ (V::Data) # Special axiom\n",
    "end\n",
    "\n",
    "@theory CategoryWithDataServices(Ob,Hom,Data) => CategoryWithAttributes(Ob,Hom,Data,AttrOb,AttrHom) begin\n",
    "    @op (e) := entity\n",
    "    @op (v) := value\n",
    "    \n",
    "    AttrOb::TYPE\n",
    "    AttrHom(dom::AttrOb,codom::AttrOb)::TYPE\n",
    "    \n",
    "    # All of the functions we need to have a category with attributes\n",
    "    compose(f::AttrHom(A,B), g::AttrHom(B,C))::AttrHom(A,C) ⊣ (A::AttrOb, B::AttrOb, C::AttrOb)\n",
    "    id(A::AttrOb)::AttrHom(A,A)\n",
    "    entity(A::AttrOb)::Ob\n",
    "    entity(f::AttrHom(A,B))::Hom(e(A), e(B)) ⊣ (A::AttrOb, B::AttrOb)\n",
    "    value(A::AttrOb)::Data\n",
    "    value(f::AttrHom(A,B))::Hom(u(v(A)), u(v(B))) ⊣ (A::AttrOb, B::AttrOb)\n",
    "    γ(A::AttrOb)::Hom(e(A), e(A) ⊗ u(v(A)))\n",
    "    \n",
    "    # Category axioms for the category of attributes\n",
    "    (f ⋅ g) ⋅ h == f ⋅ (g ⋅ h) ⊣ (A::AttrOb, B::AttrOb, C::AttrOb, D::AttrOb, f::AttrHom(A, B), g::AttrHom(B, C), h::AttrHom(C, D))\n",
    "    id(A) ⋅ f == f ⊣ (A::AttrOb, B::AttrOb, f::AttrHom)\n",
    "    f ⋅ id(B) == f ⊣ (A::AttrOb, B::AttrOb, f::AttrHom)\n",
    "    \n",
    "    # Functoriality of e\n",
    "    e(id(A)) == id(e(A)) ⊣ (A::AttrOb)\n",
    "    e(f ⋅ g) == e(f) ⋅ e(g) ⊣ (A::AttrOb, B::AttrOb, C::AttrOb, f::AttrHom(A,B), g::AttrHom(B,C))\n",
    "    \n",
    "    # Functoriality of v\n",
    "    v(id(A)) == id(u(v(A))) ⊣ (A::AttrOb)\n",
    "    v(f ⋅ g) == v(f) ⋅ v(g) ⊣ (A::AttrOb, B::AttrOb, C::AttrOb, f::AttrHom(A,B), g::AttrHom(B,C))\n",
    "    \n",
    "    # Axioms for γ\n",
    "    γ(A) ⋅ (e(f) ⊗ v(f)) == e(f) ⋅ γ(B) ⊣ (A::AttrOb, B::AttrOb, f::AttrHom(A,B)) # Naturality of γ\n",
    "    γ(A) ⋅ (id(e(A)) ⊗ δ(v(A))) == γ(A) ⋅ (γ(A) ⊗ id(u(v(A)))) ⊣ (A::AttrOb)\n",
    "    γ(A) ⋅ (id(e(A)) ⊗ ϵ(v(A))) == id(e(A)) ⊣ (A::AttrOb)\n",
    "end"
   ]
  },
  {
   "cell_type": "code",
   "execution_count": 3,
   "metadata": {},
   "outputs": [
    {
     "data": {
      "text/plain": [
       "Main.FreeCategoryWithAttributes"
      ]
     },
     "execution_count": 3,
     "metadata": {},
     "output_type": "execute_result"
    }
   ],
   "source": [
    "# \"Syntax\" / free categories with gadgets\n",
    "# Patterned off of implementations of same in Catlab\n",
    "\n",
    "abstract type DataExpr{T} <: CategoryExpr{T} end\n",
    "abstract type AttrObExpr{T} <: CategoryExpr{T} end\n",
    "abstract type AttrHomExpr{T} <: CategoryExpr{T} end\n",
    "\n",
    "@syntax FreeCategoryWithDataServices(ObExpr, HomExpr, DataExpr) CategoryWithDataServices begin\n",
    "    compose(f::Hom, g::Hom) = begin\n",
    "        if f == id(dom(g))\n",
    "            return g\n",
    "        elseif g == id(codom(f))\n",
    "            return f\n",
    "        else\n",
    "            return associate(new(f,g; strict=true)) # def. used in Catlab\n",
    "        end\n",
    "    end\n",
    "    otimes(A::Ob, B::Ob) = associate_unit(new(A, B), munit)\n",
    "    otimes(f::Hom, g::Hom) = associate(new(f, g))\n",
    "    # do we need to throw in rules for the others?\n",
    "end\n",
    "\n",
    "@syntax FreeCategoryWithAttributes(ObExpr, HomExpr, DataExpr, AttrObExpr, AttrHomExpr) CategoryWithAttributes begin\n",
    "    compose(f::Hom, g::Hom) = begin\n",
    "        if f == id(dom(g))\n",
    "            return g\n",
    "        elseif g == id(codom(f))\n",
    "            return f\n",
    "        else\n",
    "            return associate(new(f,g; strict=true)) # def. used in Catlab\n",
    "        end\n",
    "    end\n",
    "    compose(f::AttrHom, g::AttrHom) = begin\n",
    "        if f == id(dom(g))\n",
    "            return g\n",
    "        elseif g == id(codom(f))\n",
    "            return f\n",
    "        else\n",
    "            return associate(new(f,g; strict=true)) # def. used in Catlab\n",
    "        end\n",
    "    end\n",
    "    otimes(A::Ob, B::Ob) = associate_unit(new(A, B), munit)\n",
    "    otimes(f::Hom, g::Hom) = associate(new(f, g))\n",
    "end"
   ]
  },
  {
   "cell_type": "code",
   "execution_count": 4,
   "metadata": {},
   "outputs": [
    {
     "data": {
      "text/plain": [
       "Presentation{CategoryWithAttributes,Symbol}(Main.FreeCategoryWithAttributes, (Ob = Main.FreeCategoryWithAttributes.Ob{:generator}[Robot, Ball, RobotWithBall], Hom = Main.FreeCategoryWithAttributes.Hom{:generator}[MoveTo, MoveTo2, Pick, Place], Data = Main.FreeCategoryWithAttributes.Data{:generator}[Location, LocationSquared], AttrOb = Main.FreeCategoryWithAttributes.AttrOb{:generator}[RxLLocation, RLocation, RwBxLLocation, RwBLocation, RxBLocation], AttrHom = Main.FreeCategoryWithAttributes.AttrHom{:generator}[AttrMoveTo, AttrMoveTo2, AttrPick, AttrPlace]), Dict(:Location => (:Data => 1),:AttrPlace => (:AttrHom => 4),:RobotWithBall => (:Ob => 3),:RxLLocation => (:AttrOb => 1),:RLocation => (:AttrOb => 2),:AttrMoveTo2 => (:AttrHom => 2),:AttrPick => (:AttrHom => 3),:Pick => (:Hom => 3),:Ball => (:Ob => 2),:RwBxLLocation => (:AttrOb => 3)…), Pair[underlying(LocationSquared) => otimes(underlying(Location),underlying(Location)), compose(otimes(μ(Location),id(underlying(Location))),μ(Location)) => compose(otimes(id(underlying(Location)),μ(Location)),μ(Location)), compose(braid(underlying(Location),underlying(Location)),μ(Location)) => μ(Location), compose(δ(Location),otimes(δ(Location),id(underlying(Location)))) => compose(δ(Location),otimes(id(underlying(Location)),δ(Location))), compose(δ(Location),otimes(ϵ(Location),id(underlying(Location)))) => id(underlying(Location)), compose(δ(Location),otimes(id(underlying(Location)),ϵ(Location))) => id(underlying(Location)), compose(δ(Location),braid(underlying(Location),underlying(Location))) => δ(Location), compose(otimes(δ(Location),id(underlying(Location))),otimes(id(underlying(Location)),μ(Location))) => compose(μ(Location),δ(Location)), compose(otimes(id(underlying(Location)),δ(Location)),otimes(μ(Location),id(underlying(Location)))) => compose(μ(Location),δ(Location)), compose(δ(Location),μ(Location)) => id(underlying(Location))  …  compose(γ(RwBxLLocation),otimes(id(entity(RwBxLLocation)),δ(value(RwBxLLocation)))) => compose(γ(RwBxLLocation),otimes(γ(RwBxLLocation),id(underlying(value(RwBxLLocation))))), compose(γ(RwBxLLocation),otimes(id(entity(RwBxLLocation)),ϵ(value(RwBxLLocation)))) => id(entity(RwBxLLocation)), compose(γ(RwBLocation),otimes(id(entity(RwBLocation)),δ(value(RwBLocation)))) => compose(γ(RwBLocation),otimes(γ(RwBLocation),id(underlying(value(RwBLocation))))), compose(γ(RwBLocation),otimes(id(entity(RwBLocation)),ϵ(value(RwBLocation)))) => id(entity(RwBLocation)), compose(γ(RxBLocation),otimes(id(entity(RxBLocation)),δ(value(RxBLocation)))) => compose(γ(RxBLocation),otimes(γ(RxBLocation),id(underlying(value(RxBLocation))))), compose(γ(RxBLocation),otimes(id(entity(RxBLocation)),ϵ(value(RxBLocation)))) => id(entity(RxBLocation)), compose(γ(RxLLocation),otimes(entity(AttrMoveTo),value(AttrMoveTo))) => compose(entity(AttrMoveTo),γ(RLocation)), compose(γ(RwBxLLocation),otimes(entity(AttrMoveTo2),value(AttrMoveTo2))) => compose(entity(AttrMoveTo2),γ(RwBLocation)), compose(γ(RxBLocation),otimes(entity(AttrPick),value(AttrPick))) => compose(entity(AttrPick),γ(RwBLocation)), compose(γ(RwBLocation),otimes(entity(AttrPlace),value(AttrPlace))) => compose(entity(AttrPlace),γ(RxBLocation))])"
      ]
     },
     "execution_count": 4,
     "metadata": {},
     "output_type": "execute_result"
    }
   ],
   "source": [
    "@present RobotExample(FreeCategoryWithAttributes) begin\n",
    "    Robot::Ob\n",
    "    Ball::Ob\n",
    "    RobotWithBall::Ob\n",
    "    \n",
    "    Location::Data\n",
    "    LocationSquared::Data\n",
    "    \n",
    "    MoveTo::Hom(Robot ⊗ u(Location), Robot)\n",
    "    MoveTo2::Hom(RobotWithBall ⊗ u(Location), RobotWithBall)\n",
    "    Pick::Hom(Robot ⊗ Ball, RobotWithBall)\n",
    "    Place::Hom(RobotWithBall, Robot ⊗ Ball)\n",
    "    \n",
    "    RxLLocation::AttrOb\n",
    "    RLocation::AttrOb\n",
    "    RwBxLLocation::AttrOb\n",
    "    RwBLocation::AttrOb\n",
    "    RxBLocation::AttrOb\n",
    "\n",
    "    AttrMoveTo::AttrHom(RxLLocation, RLocation)\n",
    "    AttrMoveTo2::AttrHom(RwBxLLocation, RwBLocation)\n",
    "    AttrPick::AttrHom(RxBLocation, RwBLocation)\n",
    "    AttrPlace::AttrHom(RwBLocation, RxBLocation)\n",
    "    \n",
    "    u(LocationSquared) == u(Location) ⊗ u(Location)\n",
    "    \n",
    "    (μ(Location) ⊗ id(u(Location))) ⋅ μ(Location) == (id(u(Location)) ⊗ μ(Location)) ⋅ μ(Location)\n",
    "    braid(u(Location), u(Location)) ⋅ μ(Location) == μ(Location)\n",
    "    δ(Location) ⋅ (δ(Location) ⊗ id(u(Location))) == δ(Location) ⋅ (id(u(Location)) ⊗ δ(Location))\n",
    "    δ(Location) ⋅ (ϵ(Location) ⊗ id(u(Location))) == id(u(Location))\n",
    "    δ(Location) ⋅ (id(u(Location)) ⊗ ϵ(Location)) == id(u(Location))\n",
    "    δ(Location) ⋅ braid(u(Location), u(Location)) == δ(Location)\n",
    "    (δ(Location) ⊗ id(u(Location))) ⋅ (id(u(Location)) ⊗ μ(Location)) == μ(Location) ⋅ δ(Location)\n",
    "    (id(u(Location)) ⊗ δ(Location)) ⋅ (μ(Location) ⊗ id(u(Location))) == μ(Location) ⋅ δ(Location)\n",
    "    δ(Location) ⋅ μ(Location) == id(u(Location))\n",
    "    \n",
    "    e(RxLLocation) == Robot ⊗ u(Location)\n",
    "    e(RLocation) == Robot\n",
    "    e(RwBxLLocation) == RobotWithBall ⊗ u(Location)\n",
    "    e(RwBLocation) == RobotWithBall\n",
    "    e(RxBLocation) == Robot ⊗ Ball\n",
    "    \n",
    "    e(AttrMoveTo) == MoveTo\n",
    "    e(AttrMoveTo2) == MoveTo2\n",
    "    e(AttrPick) == Pick\n",
    "    e(AttrPlace) == Place\n",
    "    \n",
    "    v(RxLLocation) == LocationSquared\n",
    "    v(RLocation) == Location\n",
    "    v(RwBxLLocation) == LocationSquared\n",
    "    v(RwBLocation) == Location\n",
    "    v(RxBLocation) == LocationSquared\n",
    "    \n",
    "    v(AttrMoveTo) == ϵ(Location) ⊗ id(u(Location))\n",
    "    v(AttrMoveTo2) == ϵ(Location) ⊗ id(u(Location))\n",
    "    v(AttrPick) == μ(Location)\n",
    "    v(AttrPlace) == δ(Location)\n",
    "    \n",
    "    γ(RxLLocation) ⋅ (id(e(RxLLocation)) ⊗ δ(v(RxLLocation))) == γ(RxLLocation) ⋅ (γ(RxLLocation) ⊗ id(u(v(RxLLocation))))\n",
    "    γ(RxLLocation) ⋅ (id(e(RxLLocation)) ⊗ ϵ(v(RxLLocation))) == id(e(RxLLocation))\n",
    "    γ(RLocation) ⋅ (id(e(RLocation)) ⊗ δ(v(RLocation))) == γ(RLocation) ⋅ (γ(RLocation) ⊗ id(u(v(RLocation))))\n",
    "    γ(RLocation) ⋅ (id(e(RLocation)) ⊗ ϵ(v(RLocation))) == id(e(RLocation))\n",
    "    γ(RwBxLLocation) ⋅ (id(e(RwBxLLocation)) ⊗ δ(v(RwBxLLocation))) == γ(RwBxLLocation) ⋅ (γ(RwBxLLocation) ⊗ id(u(v(RwBxLLocation))))\n",
    "    γ(RwBxLLocation) ⋅ (id(e(RwBxLLocation)) ⊗ ϵ(v(RwBxLLocation))) == id(e(RwBxLLocation))\n",
    "    γ(RwBLocation) ⋅ (id(e(RwBLocation)) ⊗ δ(v(RwBLocation))) == γ(RwBLocation) ⋅ (γ(RwBLocation) ⊗ id(u(v(RwBLocation))))\n",
    "    γ(RwBLocation) ⋅ (id(e(RwBLocation)) ⊗ ϵ(v(RwBLocation))) == id(e(RwBLocation))\n",
    "    γ(RxBLocation) ⋅ (id(e(RxBLocation)) ⊗ δ(v(RxBLocation))) == γ(RxBLocation) ⋅ (γ(RxBLocation) ⊗ id(u(v(RxBLocation))))\n",
    "    γ(RxBLocation) ⋅ (id(e(RxBLocation)) ⊗ ϵ(v(RxBLocation))) == id(e(RxBLocation))\n",
    "    \n",
    "    γ(RxLLocation) ⋅ (e(AttrMoveTo) ⊗ v(AttrMoveTo)) == e(AttrMoveTo) ⋅ γ(RLocation)\n",
    "    γ(RwBxLLocation) ⋅ (e(AttrMoveTo2) ⊗ v(AttrMoveTo2)) == e(AttrMoveTo2) ⋅ γ(RwBLocation)\n",
    "    γ(RxBLocation) ⋅ (e(AttrPick) ⊗ v(AttrPick)) == e(AttrPick) ⋅ γ(RwBLocation)\n",
    "    γ(RwBLocation) ⋅ (e(AttrPlace) ⊗ v(AttrPlace)) == e(AttrPlace) ⋅ γ(RxBLocation)\n",
    "end"
   ]
  },
  {
   "cell_type": "code",
   "execution_count": null,
   "metadata": {},
   "outputs": [],
   "source": [
    "# TODO:\n",
    "# Add a few more equations for the γ's and data service structures above\n",
    "# Figure out how to create wiring diagrams for categories with attributes\n",
    "# See if there's a way to shorten the above presentation\n",
    "# See if there's actually anything interesting that can be done with the above presentation"
   ]
  }
 ],
 "metadata": {
  "kernelspec": {
   "display_name": "Julia 1.4.2",
   "language": "julia",
   "name": "julia-1.4"
  },
  "language_info": {
   "file_extension": ".jl",
   "mimetype": "application/julia",
   "name": "julia",
   "version": "1.4.2"
  }
 },
 "nbformat": 4,
 "nbformat_minor": 2
}
